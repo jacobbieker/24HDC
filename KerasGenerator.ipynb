{
 "cells": [
  {
   "cell_type": "code",
   "execution_count": 11,
   "metadata": {},
   "outputs": [],
   "source": [
    "import keras\n",
    "import numpy as np\n",
    "from keras.utils import Sequence\n",
    "from sklearn.utils import shuffle\n",
    "import re"
   ]
  },
  {
   "cell_type": "code",
   "execution_count": 12,
   "metadata": {},
   "outputs": [],
   "source": [
    "class TweetSeqGenerator(Sequence):\n",
    "  \n",
    "    def __init__(self, data, labels, batch_size, normalize=False):\n",
    "      self.data = data\n",
    "      self.labels = labels\n",
    "      if len(self.data) != len(self.labels):\n",
    "        raise ValueError(\"Data and Labels have to be same size\")\n",
    "      self.batch_size = batch_size\n",
    "      self.normalize = normalize\n",
    "      \n",
    "      # If normalize, then normalize each timeseries to sum to 1 on each keyword\n",
    "      if self.normalize:\n",
    "        for i in range(len(self.data)):\n",
    "            # Normalizes the rows of the matrix to 1\n",
    "            # Axis=0 should normalize the columns to 1\n",
    "            self.data[i] = self.data[i]/np.max(self.data[i], axis=1)\n",
    "\n",
    "\n",
    "    def __getitem__(self, index):\n",
    "        \"\"\"\n",
    "        Go through each set of files and augment them as needed\n",
    "        :param index:\n",
    "        :return:\n",
    "        \"\"\"\n",
    "        timeseries = self.data[index * self.batch_size:(index + 1) * self.batch_size]\n",
    "        labels = self.labels[index * self.batch_size:(index + 1) * self.batch_size]\n",
    "\n",
    "        return timeseries, labels\n",
    "\n",
    "    def __len__(self):\n",
    "        \"\"\"\n",
    "        Returns the length of the list of paths, as the number of events is not known\n",
    "        :return:\n",
    "        \"\"\"\n",
    "        return int(np.ceil(len(self.data) / float(self.batch_size)))\n",
    "\n",
    "    def on_epoch_end(self):\n",
    "            self.data = shuffle(self.data, self.labels)\n"
   ]
  },
  {
   "cell_type": "code",
   "execution_count": 13,
   "metadata": {},
   "outputs": [],
   "source": [
    "def generate_timeseries(category, length, limit=None):\n",
    "  \"\"\"\n",
    "  Generates timeseries from the tweets, and gets the next event to occur in the future\n",
    "  \"\"\"\n",
    "  return NotImplementedError"
   ]
  },
  {
   "cell_type": "code",
   "execution_count": 14,
   "metadata": {},
   "outputs": [],
   "source": [
    "def clean_tweet(tweet):\n",
    "  \"\"\"\n",
    "  Cleans a tweet to just English characters, removing URLs, etc.\n",
    "  What is given is just the tweet itself, not the metadata\n",
    "  \"\"\"\n",
    "  tweet = re.sub(r\"http\\S+\", \"\", tweet) # removes URLs\n",
    "  tweet = re.sub(r\"[^a-zA-Z0-9]+\", ' ', tweet) # Removes non-alphanumeric chars\n",
    "  tweet = tweet.lower() # Lowercases it\n",
    "  \n",
    "  return tweet\n",
    "  \n",
    "  "
   ]
  },
  {
   "cell_type": "code",
   "execution_count": null,
   "metadata": {},
   "outputs": [],
   "source": []
  }
 ],
 "metadata": {
  "kernelspec": {
   "display_name": "Python 3",
   "language": "python",
   "name": "python3"
  },
  "language_info": {
   "codemirror_mode": {
    "name": "ipython",
    "version": 3
   },
   "file_extension": ".py",
   "mimetype": "text/x-python",
   "name": "python",
   "nbconvert_exporter": "python",
   "pygments_lexer": "ipython3",
   "version": "3.5.6"
  }
 },
 "nbformat": 4,
 "nbformat_minor": 2
}
